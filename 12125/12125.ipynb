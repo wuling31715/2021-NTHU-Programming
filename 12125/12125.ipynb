{
 "cells": [
  {
   "cell_type": "code",
   "execution_count": 1,
   "metadata": {},
   "outputs": [
    {
     "name": "stdout",
     "output_type": "stream",
     "text": [
      "6 10\n"
     ]
    }
   ],
   "source": [
    "input_str = input()\n",
    "n = int(input_str.split()[0])\n",
    "q = int(input_str.split()[1])"
   ]
  },
  {
   "cell_type": "code",
   "execution_count": 2,
   "metadata": {},
   "outputs": [
    {
     "name": "stdout",
     "output_type": "stream",
     "text": [
      "5(/`A`)/ ~I__I 1(/`A`)/ ~I__I 6(/`A`)/ ~I__I 7(/`A`)/ ~I__I 0(/`A`)/ ~I__I 9(/`A`)/ ~I__I\n"
     ]
    }
   ],
   "source": [
    "input_str = input()"
   ]
  },
  {
   "cell_type": "code",
   "execution_count": 3,
   "metadata": {},
   "outputs": [
    {
     "data": {
      "text/plain": [
       "[5, 1, 6, 7, 0, 9]"
      ]
     },
     "execution_count": 3,
     "metadata": {},
     "output_type": "execute_result"
    }
   ],
   "source": [
    "input_list = input_str.split('(/`A`)/ ~I__I')\n",
    "array = list()\n",
    "for i in input_list:\n",
    "    if i != '':\n",
    "        array.append(int(i))\n",
    "array"
   ]
  },
  {
   "cell_type": "code",
   "execution_count": 4,
   "metadata": {},
   "outputs": [
    {
     "name": "stdout",
     "output_type": "stream",
     "text": [
      "1\n",
      "2\n",
      "3\n",
      "4\n",
      "5\n"
     ]
    },
    {
     "data": {
      "text/plain": [
       "[5, 6, 12, 19, 19, 28]"
      ]
     },
     "execution_count": 4,
     "metadata": {},
     "output_type": "execute_result"
    }
   ],
   "source": [
    "prefix_sum = [0 for i in range(6)]\n",
    "prefix_sum[0] = array[0]\n",
    "for i in range(1, len(array)):\n",
    "    print(i)\n",
    "    prefix_sum[i] = array[i] + prefix_sum[i - 1]\n",
    "prefix_sum"
   ]
  },
  {
   "cell_type": "code",
   "execution_count": 8,
   "metadata": {},
   "outputs": [
    {
     "name": "stdout",
     "output_type": "stream",
     "text": [
      "1 2\n",
      "6\n",
      "3 4\n",
      "13\n",
      "1 3\n",
      "12\n",
      "1 4\n",
      "19\n",
      "3 3\n",
      "6\n",
      "4 4\n",
      "7\n",
      "5 5\n",
      "0\n",
      "3 5\n",
      "13\n",
      "2 2\n",
      "1\n",
      "1 1\n",
      "5\n"
     ]
    }
   ],
   "source": [
    "for i in range(q):\n",
    "    input_str = input()\n",
    "    l = int(input_str.split()[0])\n",
    "    r = int(input_str.split()[1])\n",
    "    if l == 1:\n",
    "        sum = prefix_sum[r - 1]\n",
    "    elif l == r:\n",
    "        sum = prefix_sum[r - 1] - prefix_sum[l - 2]\n",
    "    else:\n",
    "        sum = prefix_sum[r - 1] - prefix_sum[l - 2]\n",
    "    print(sum)"
   ]
  },
  {
   "cell_type": "code",
   "execution_count": null,
   "metadata": {},
   "outputs": [],
   "source": []
  }
 ],
 "metadata": {
  "kernelspec": {
   "display_name": "Python 3",
   "language": "python",
   "name": "python3"
  },
  "language_info": {
   "codemirror_mode": {
    "name": "ipython",
    "version": 3
   },
   "file_extension": ".py",
   "mimetype": "text/x-python",
   "name": "python",
   "nbconvert_exporter": "python",
   "pygments_lexer": "ipython3",
   "version": "3.6.12"
  }
 },
 "nbformat": 4,
 "nbformat_minor": 4
}
